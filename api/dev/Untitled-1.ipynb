{
 "cells": [
  {
   "cell_type": "code",
   "execution_count": 1,
   "metadata": {},
   "outputs": [],
   "source": [
    "import mysql.connector\n",
    "from mysql.connector import errorcode\n",
    "from flask import jsonify\n",
    "from datetime import datetime, date, timedelta"
   ]
  },
  {
   "cell_type": "code",
   "execution_count": 2,
   "metadata": {},
   "outputs": [],
   "source": [
    "# try:\n",
    "    cnx = mysql.connector.connect(user='root', password='w4sser',\n",
    "                                host='127.0.0.1',\n",
    "                                database='employees')\n",
    "# except mysql.connector.Error as err:\n",
    "#   if err.errno == errorcode.ER_ACCESS_DENIED_ERROR:\n",
    "#     print(\"Something is wrong with your user name or password\")\n",
    "#   elif err.errno == errorcode.ER_BAD_DB_ERROR:\n",
    "#     print(\"Database does not exist\")\n",
    "#   else:\n",
    "#     print(err)\n"
   ]
  },
  {
   "cell_type": "code",
   "execution_count": 3,
   "metadata": {},
   "outputs": [],
   "source": [
    "\n",
    "curA = cnx.cursor()\n",
    "\n",
    "# Query to get employees who joined in a period defined by two dates\n",
    "query = (\n",
    "  \"SELECT * FROM salaries limit 100\")\n",
    "\n",
    "#   SELECT s.emp_no, salary, from_date, to_date FROM employees AS e \"\n",
    "#   \"LEFT JOIN salaries AS s USING (emp_no) \"\n",
    "#   \"WHERE to_date = DATE('9999-01-01')\"\n",
    "#   \"AND e.hire_date BETWEEN DATE(%s) AND DATE(%s)\n",
    "\n",
    "curA.execute(query)\n",
    "# , (date(2000, 1, 1), date(2000, 12, 31))"
   ]
  },
  {
   "cell_type": "code",
   "execution_count": 4,
   "metadata": {},
   "outputs": [],
   "source": [
    "data = curA.fetchall()"
   ]
  },
  {
   "cell_type": "code",
   "execution_count": 75,
   "metadata": {},
   "outputs": [],
   "source": [
    "for emp_no, salary, from_date, to_date in curA:\n",
    "     print(emp_no, salary, from_date, to_date)"
   ]
  },
  {
   "cell_type": "code",
   "execution_count": 5,
   "metadata": {},
   "outputs": [
    {
     "output_type": "stream",
     "name": "stdout",
     "text": "[]\n"
    }
   ],
   "source": [
    "print(data)\n",
    "\n",
    "# for emp_no, salary, from_date, to_date in curA:\n",
    "#      print(emp_no, salary, from_date, to_date)"
   ]
  },
  {
   "cell_type": "code",
   "execution_count": 54,
   "metadata": {},
   "outputs": [
    {
     "output_type": "error",
     "ename": "NameError",
     "evalue": "name 'emp_no' is not defined",
     "traceback": [
      "\u001b[1;31m---------------------------------------------------------------------------\u001b[0m",
      "\u001b[1;31mNameError\u001b[0m                                 Traceback (most recent call last)",
      "\u001b[1;32m<ipython-input-54-ce4e3234288c>\u001b[0m in \u001b[0;36m<module>\u001b[1;34m\u001b[0m\n\u001b[0;32m      2\u001b[0m \u001b[1;31m#     print(emp_no, salary, from_date, to_date)\u001b[0m\u001b[1;33m\u001b[0m\u001b[1;33m\u001b[0m\u001b[1;33m\u001b[0m\u001b[0m\n\u001b[0;32m      3\u001b[0m \u001b[1;33m\u001b[0m\u001b[0m\n\u001b[1;32m----> 4\u001b[1;33m c = jsonify(employee_nr = emp_no,\n\u001b[0m\u001b[0;32m      5\u001b[0m             \u001b[0msalary\u001b[0m \u001b[1;33m=\u001b[0m \u001b[0msalary\u001b[0m\u001b[1;33m,\u001b[0m\u001b[1;33m\u001b[0m\u001b[1;33m\u001b[0m\u001b[0m\n\u001b[0;32m      6\u001b[0m              since = to_date - from_date)\n",
      "\u001b[1;31mNameError\u001b[0m: name 'emp_no' is not defined"
     ]
    }
   ],
   "source": [
    "# for emp_no, salary, from_date, to_date in cursor:\n",
    "#     print(emp_no, salary, from_date, to_date)\n",
    "\n",
    "c = jsonify(employee_nr = emp_no,\n",
    "            salary = salary,\n",
    "             since = to_date - from_date)"
   ]
  },
  {
   "cell_type": "code",
   "execution_count": 56,
   "metadata": {},
   "outputs": [],
   "source": [
    "cursor.close()\n",
    "cnx.close()"
   ]
  },
  {
   "cell_type": "code",
   "execution_count": null,
   "metadata": {},
   "outputs": [],
   "source": []
  }
 ],
 "metadata": {
  "language_info": {
   "codemirror_mode": {
    "name": "ipython",
    "version": 3
   },
   "file_extension": ".py",
   "mimetype": "text/x-python",
   "name": "python",
   "nbconvert_exporter": "python",
   "pygments_lexer": "ipython3",
   "version": "3.7.7-final"
  },
  "orig_nbformat": 2,
  "kernelspec": {
   "name": "python3",
   "display_name": "Python 3"
  }
 },
 "nbformat": 4,
 "nbformat_minor": 2
}